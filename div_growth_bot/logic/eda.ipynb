{
 "cells": [
  {
   "cell_type": "markdown",
   "metadata": {},
   "source": [
    "# Exploratory Data Analysis\n",
    "\n",
    "- Overall Market Trends\n",
    "- Div Growth Predictions\n",
    "- Growth Predictions\n",
    "- Budget Regression\n",
    "- From all the results, predict the top (x) stocks to buy at value\n",
    "- Only focus on the best value stocks\n",
    "- Designed to be copy/pasted into models as successful algos are found.\n",
    "\n",
    "\n",
    "## Graham Criteria:\n",
    "1. Earnings Growth for last 5 Years\n",
    "2. P/E Ratio < 9\n",
    "3. P/B Ratio < 1.2\n",
    "4. Debt to Asset Ratio < 1.1\n",
    "5. Assets/Liabilities > 1.5\n",
    "\n",
    "- Rank the stocks for each of the criteria, then average the ranks to get the best stocks\n",
    "- Select the top (x) stocks to buy"
   ]
  },
  {
   "cell_type": "code",
   "execution_count": null,
   "metadata": {
    "vscode": {
     "languageId": "plaintext"
    }
   },
   "outputs": [],
   "source": [
    "import polars\n",
    "import sklearn\n",
    "import jax.numpy\n",
    "import matplotlib"
   ]
  }
 ],
 "metadata": {
  "language_info": {
   "name": "python"
  }
 },
 "nbformat": 4,
 "nbformat_minor": 2
}
